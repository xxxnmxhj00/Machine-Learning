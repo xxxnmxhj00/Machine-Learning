{
 "cells": [
  {
   "cell_type": "markdown",
   "id": "d0e95c40-121f-456f-800d-2ccef4c0eddb",
   "metadata": {},
   "source": [
    "# 4장 분류"
   ]
  },
  {
   "cell_type": "code",
   "execution_count": 2,
   "id": "610c64a7-1478-40fe-872b-97bed7ba24de",
   "metadata": {},
   "outputs": [],
   "source": [
    "import os\n",
    "\n",
    "os.environ['KAGGLE_USERNAME'] = 'hojunnn'\n",
    "os.environ['KAGGLE_KEY'] = 'd4271b12660538c66718e87a2c67b22b'"
   ]
  },
  {
   "cell_type": "code",
   "execution_count": 4,
   "id": "697cb3ad-5e79-43d4-9e18-398f4e2ad94a",
   "metadata": {},
   "outputs": [
    {
     "name": "stdout",
     "output_type": "stream",
     "text": [
      "Dataset URL: https://www.kaggle.com/datasets/mlg-ulb/creditcardfraud"
     ]
    },
    {
     "name": "stderr",
     "output_type": "stream",
     "text": [
      "\n",
      "  0%|          | 0.00/66.0M [00:00<?, ?B/s]\n",
      "  2%|1         | 1.00M/66.0M [00:00<00:38, 1.75MB/s]\n",
      "  5%|4         | 3.00M/66.0M [00:00<00:12, 5.08MB/s]\n",
      "  9%|9         | 6.00M/66.0M [00:00<00:06, 10.4MB/s]\n",
      " 17%|#6        | 11.0M/66.0M [00:00<00:03, 19.0MB/s]\n",
      " 23%|##2       | 15.0M/66.0M [00:01<00:02, 24.3MB/s]\n",
      " 29%|##8       | 19.0M/66.0M [00:01<00:01, 25.5MB/s]\n",
      " 35%|###4      | 23.0M/66.0M [00:01<00:01, 28.8MB/s]\n",
      " 41%|####      | 27.0M/66.0M [00:01<00:01, 31.3MB/s]\n",
      " 49%|####8     | 32.0M/66.0M [00:01<00:01, 35.2MB/s]\n",
      " 56%|#####6    | 37.0M/66.0M [00:01<00:00, 36.9MB/s]\n",
      " 64%|######3   | 42.0M/66.0M [00:01<00:00, 39.1MB/s]\n",
      " 71%|#######1  | 47.0M/66.0M [00:01<00:00, 41.2MB/s]\n",
      " 79%|#######8  | 52.0M/66.0M [00:02<00:00, 40.6MB/s]\n",
      " 85%|########4 | 56.0M/66.0M [00:02<00:00, 37.1MB/s]\n",
      " 91%|######### | 60.0M/66.0M [00:02<00:00, 37.5MB/s]\n",
      " 97%|#########7| 64.0M/66.0M [00:02<00:00, 38.0MB/s]\n",
      "100%|##########| 66.0M/66.0M [00:02<00:00, 28.1MB/s]\n"
     ]
    },
    {
     "name": "stdout",
     "output_type": "stream",
     "text": [
      "\n",
      "License(s): DbCL-1.0\n",
      "Downloading creditcardfraud.zip to C:\\Users\\705-8\\2-0 파이썬 머신러닝 완벽 가이드\n",
      "\n"
     ]
    }
   ],
   "source": [
    "!kaggle datasets download -d mlg-ulb/creditcardfraud"
   ]
  },
  {
   "cell_type": "code",
   "execution_count": 6,
   "id": "b30db8bc-d820-4698-9940-acf55354a2a9",
   "metadata": {},
   "outputs": [
    {
     "name": "stdout",
     "output_type": "stream",
     "text": [
      " C 드라이브의 볼륨에는 이름이 없습니다.\n",
      " 볼륨 일련 번호: 1499-BAB9\n",
      "\n",
      " C:\\Users\\705-8\\2-0 파이썬 머신러닝 완벽 가이드 디렉터리\n",
      "\n",
      "2024-08-01  오후 02:46    <DIR>          .\n",
      "2024-08-01  오후 02:46    <DIR>          ..\n",
      "2024-08-01  오후 02:38    <DIR>          .ipynb_checkpoints\n",
      "2024-07-25  오후 05:37            22,835 1장 파이썬 기반의 머신러닝 생태계 이해.ipynb\n",
      "2024-07-29  오후 02:16           187,932 2장 사이킷런으로 시작하는 머신러닝.ipynb\n",
      "2024-08-01  오전 09:07           213,483 3장 평가.ipynb\n",
      "2024-07-31  오후 05:39           416,069 4장 분류 part 2.ipynb\n",
      "2024-08-01  오후 01:20           118,492 4장 분류 part1.ipynb\n",
      "2024-08-01  오후 02:46             1,135 4장 분류 part3.ipynb\n",
      "2019-09-20  오전 12:05        69,155,672 creditcardfraud.zip\n",
      "2024-08-01  오후 01:16            93,942 KNN, 서포트 벡터 머신.ipynb\n",
      "2019-12-11  오전 03:52           626,900 sample_submission.csv\n",
      "2019-12-11  오전 03:52         8,646,304 santander-customer-satisfaction.zip\n",
      "2019-12-11  오후 10:01       262,272,082 santander-customer-transaction-prediction.zip\n",
      "2019-12-11  오전 03:52        59,054,007 test.csv\n",
      "2019-12-11  오전 03:52        59,362,806 train.csv\n",
      "2024-07-30  오후 03:32             2,320 tree.dot\n",
      "2024-07-31  오전 09:30             9,668 Untitled.ipynb\n",
      "2019-09-20  오전 02:14            38,026 xAPI-Edu-Data.csv\n",
      "2019-09-20  오전 02:14             5,675 xAPI-Edu-Data.zip\n",
      "2024-08-01  오후 02:35         1,377,696 우리 애는 머리는 좋은데, 공부를 안해서 그래요.ipynb\n",
      "              18개 파일         461,605,044 바이트\n",
      "               3개 디렉터리  420,744,839,168 바이트 남음\n"
     ]
    }
   ],
   "source": [
    "!dir"
   ]
  },
  {
   "cell_type": "code",
   "execution_count": 12,
   "id": "ca4260ed-ec74-4267-88f1-6cb2b18a81f0",
   "metadata": {},
   "outputs": [],
   "source": [
    "!tar -xf creditcardfraud.zip"
   ]
  },
  {
   "cell_type": "code",
   "execution_count": 14,
   "id": "c0f17bda-4530-4d35-b472-5607280cd9ed",
   "metadata": {},
   "outputs": [
    {
     "data": {
      "text/html": [
       "<div>\n",
       "<style scoped>\n",
       "    .dataframe tbody tr th:only-of-type {\n",
       "        vertical-align: middle;\n",
       "    }\n",
       "\n",
       "    .dataframe tbody tr th {\n",
       "        vertical-align: top;\n",
       "    }\n",
       "\n",
       "    .dataframe thead th {\n",
       "        text-align: right;\n",
       "    }\n",
       "</style>\n",
       "<table border=\"1\" class=\"dataframe\">\n",
       "  <thead>\n",
       "    <tr style=\"text-align: right;\">\n",
       "      <th></th>\n",
       "      <th>Time</th>\n",
       "      <th>V1</th>\n",
       "      <th>V2</th>\n",
       "      <th>V3</th>\n",
       "      <th>V4</th>\n",
       "      <th>V5</th>\n",
       "      <th>V6</th>\n",
       "      <th>V7</th>\n",
       "      <th>V8</th>\n",
       "      <th>V9</th>\n",
       "      <th>...</th>\n",
       "      <th>V21</th>\n",
       "      <th>V22</th>\n",
       "      <th>V23</th>\n",
       "      <th>V24</th>\n",
       "      <th>V25</th>\n",
       "      <th>V26</th>\n",
       "      <th>V27</th>\n",
       "      <th>V28</th>\n",
       "      <th>Amount</th>\n",
       "      <th>Class</th>\n",
       "    </tr>\n",
       "  </thead>\n",
       "  <tbody>\n",
       "    <tr>\n",
       "      <th>0</th>\n",
       "      <td>0.0</td>\n",
       "      <td>-1.359807</td>\n",
       "      <td>-0.072781</td>\n",
       "      <td>2.536347</td>\n",
       "      <td>1.378155</td>\n",
       "      <td>-0.338321</td>\n",
       "      <td>0.462388</td>\n",
       "      <td>0.239599</td>\n",
       "      <td>0.098698</td>\n",
       "      <td>0.363787</td>\n",
       "      <td>...</td>\n",
       "      <td>-0.018307</td>\n",
       "      <td>0.277838</td>\n",
       "      <td>-0.110474</td>\n",
       "      <td>0.066928</td>\n",
       "      <td>0.128539</td>\n",
       "      <td>-0.189115</td>\n",
       "      <td>0.133558</td>\n",
       "      <td>-0.021053</td>\n",
       "      <td>149.62</td>\n",
       "      <td>0</td>\n",
       "    </tr>\n",
       "    <tr>\n",
       "      <th>1</th>\n",
       "      <td>0.0</td>\n",
       "      <td>1.191857</td>\n",
       "      <td>0.266151</td>\n",
       "      <td>0.166480</td>\n",
       "      <td>0.448154</td>\n",
       "      <td>0.060018</td>\n",
       "      <td>-0.082361</td>\n",
       "      <td>-0.078803</td>\n",
       "      <td>0.085102</td>\n",
       "      <td>-0.255425</td>\n",
       "      <td>...</td>\n",
       "      <td>-0.225775</td>\n",
       "      <td>-0.638672</td>\n",
       "      <td>0.101288</td>\n",
       "      <td>-0.339846</td>\n",
       "      <td>0.167170</td>\n",
       "      <td>0.125895</td>\n",
       "      <td>-0.008983</td>\n",
       "      <td>0.014724</td>\n",
       "      <td>2.69</td>\n",
       "      <td>0</td>\n",
       "    </tr>\n",
       "    <tr>\n",
       "      <th>2</th>\n",
       "      <td>1.0</td>\n",
       "      <td>-1.358354</td>\n",
       "      <td>-1.340163</td>\n",
       "      <td>1.773209</td>\n",
       "      <td>0.379780</td>\n",
       "      <td>-0.503198</td>\n",
       "      <td>1.800499</td>\n",
       "      <td>0.791461</td>\n",
       "      <td>0.247676</td>\n",
       "      <td>-1.514654</td>\n",
       "      <td>...</td>\n",
       "      <td>0.247998</td>\n",
       "      <td>0.771679</td>\n",
       "      <td>0.909412</td>\n",
       "      <td>-0.689281</td>\n",
       "      <td>-0.327642</td>\n",
       "      <td>-0.139097</td>\n",
       "      <td>-0.055353</td>\n",
       "      <td>-0.059752</td>\n",
       "      <td>378.66</td>\n",
       "      <td>0</td>\n",
       "    </tr>\n",
       "  </tbody>\n",
       "</table>\n",
       "<p>3 rows × 31 columns</p>\n",
       "</div>"
      ],
      "text/plain": [
       "   Time        V1        V2        V3        V4        V5        V6        V7  \\\n",
       "0   0.0 -1.359807 -0.072781  2.536347  1.378155 -0.338321  0.462388  0.239599   \n",
       "1   0.0  1.191857  0.266151  0.166480  0.448154  0.060018 -0.082361 -0.078803   \n",
       "2   1.0 -1.358354 -1.340163  1.773209  0.379780 -0.503198  1.800499  0.791461   \n",
       "\n",
       "         V8        V9  ...       V21       V22       V23       V24       V25  \\\n",
       "0  0.098698  0.363787  ... -0.018307  0.277838 -0.110474  0.066928  0.128539   \n",
       "1  0.085102 -0.255425  ... -0.225775 -0.638672  0.101288 -0.339846  0.167170   \n",
       "2  0.247676 -1.514654  ...  0.247998  0.771679  0.909412 -0.689281 -0.327642   \n",
       "\n",
       "        V26       V27       V28  Amount  Class  \n",
       "0 -0.189115  0.133558 -0.021053  149.62      0  \n",
       "1  0.125895 -0.008983  0.014724    2.69      0  \n",
       "2 -0.139097 -0.055353 -0.059752  378.66      0  \n",
       "\n",
       "[3 rows x 31 columns]"
      ]
     },
     "execution_count": 14,
     "metadata": {},
     "output_type": "execute_result"
    }
   ],
   "source": [
    "import pandas as pd\n",
    "import numpy as np\n",
    "import matplotlib.pyplot as plt\n",
    "\n",
    "card_df = pd.read_csv('./creditcard.csv')\n",
    "card_df.head(3)"
   ]
  },
  {
   "cell_type": "code",
   "execution_count": 18,
   "id": "7ee5dafe-319e-4800-9c95-e422855f47af",
   "metadata": {},
   "outputs": [
    {
     "name": "stdout",
     "output_type": "stream",
     "text": [
      "<class 'pandas.core.frame.DataFrame'>\n",
      "RangeIndex: 284807 entries, 0 to 284806\n",
      "Data columns (total 31 columns):\n",
      " #   Column  Non-Null Count   Dtype  \n",
      "---  ------  --------------   -----  \n",
      " 0   Time    284807 non-null  float64\n",
      " 1   V1      284807 non-null  float64\n",
      " 2   V2      284807 non-null  float64\n",
      " 3   V3      284807 non-null  float64\n",
      " 4   V4      284807 non-null  float64\n",
      " 5   V5      284807 non-null  float64\n",
      " 6   V6      284807 non-null  float64\n",
      " 7   V7      284807 non-null  float64\n",
      " 8   V8      284807 non-null  float64\n",
      " 9   V9      284807 non-null  float64\n",
      " 10  V10     284807 non-null  float64\n",
      " 11  V11     284807 non-null  float64\n",
      " 12  V12     284807 non-null  float64\n",
      " 13  V13     284807 non-null  float64\n",
      " 14  V14     284807 non-null  float64\n",
      " 15  V15     284807 non-null  float64\n",
      " 16  V16     284807 non-null  float64\n",
      " 17  V17     284807 non-null  float64\n",
      " 18  V18     284807 non-null  float64\n",
      " 19  V19     284807 non-null  float64\n",
      " 20  V20     284807 non-null  float64\n",
      " 21  V21     284807 non-null  float64\n",
      " 22  V22     284807 non-null  float64\n",
      " 23  V23     284807 non-null  float64\n",
      " 24  V24     284807 non-null  float64\n",
      " 25  V25     284807 non-null  float64\n",
      " 26  V26     284807 non-null  float64\n",
      " 27  V27     284807 non-null  float64\n",
      " 28  V28     284807 non-null  float64\n",
      " 29  Amount  284807 non-null  float64\n",
      " 30  Class   284807 non-null  int64  \n",
      "dtypes: float64(30), int64(1)\n",
      "memory usage: 67.4 MB\n"
     ]
    }
   ],
   "source": [
    "card_df.info()"
   ]
  },
  {
   "cell_type": "code",
   "execution_count": 22,
   "id": "e4015989-a4b4-4a0f-a7a5-605bc4152cf5",
   "metadata": {},
   "outputs": [
    {
     "data": {
      "text/html": [
       "<div>\n",
       "<style scoped>\n",
       "    .dataframe tbody tr th:only-of-type {\n",
       "        vertical-align: middle;\n",
       "    }\n",
       "\n",
       "    .dataframe tbody tr th {\n",
       "        vertical-align: top;\n",
       "    }\n",
       "\n",
       "    .dataframe thead th {\n",
       "        text-align: right;\n",
       "    }\n",
       "</style>\n",
       "<table border=\"1\" class=\"dataframe\">\n",
       "  <thead>\n",
       "    <tr style=\"text-align: right;\">\n",
       "      <th></th>\n",
       "      <th>Time</th>\n",
       "      <th>V1</th>\n",
       "      <th>V2</th>\n",
       "      <th>V3</th>\n",
       "      <th>V4</th>\n",
       "      <th>V5</th>\n",
       "      <th>V6</th>\n",
       "      <th>V7</th>\n",
       "      <th>V8</th>\n",
       "      <th>V9</th>\n",
       "      <th>...</th>\n",
       "      <th>V21</th>\n",
       "      <th>V22</th>\n",
       "      <th>V23</th>\n",
       "      <th>V24</th>\n",
       "      <th>V25</th>\n",
       "      <th>V26</th>\n",
       "      <th>V27</th>\n",
       "      <th>V28</th>\n",
       "      <th>Amount</th>\n",
       "      <th>Class</th>\n",
       "    </tr>\n",
       "  </thead>\n",
       "  <tbody>\n",
       "    <tr>\n",
       "      <th>count</th>\n",
       "      <td>284807.000000</td>\n",
       "      <td>2.848070e+05</td>\n",
       "      <td>2.848070e+05</td>\n",
       "      <td>2.848070e+05</td>\n",
       "      <td>2.848070e+05</td>\n",
       "      <td>2.848070e+05</td>\n",
       "      <td>2.848070e+05</td>\n",
       "      <td>2.848070e+05</td>\n",
       "      <td>2.848070e+05</td>\n",
       "      <td>2.848070e+05</td>\n",
       "      <td>...</td>\n",
       "      <td>2.848070e+05</td>\n",
       "      <td>2.848070e+05</td>\n",
       "      <td>2.848070e+05</td>\n",
       "      <td>2.848070e+05</td>\n",
       "      <td>2.848070e+05</td>\n",
       "      <td>2.848070e+05</td>\n",
       "      <td>2.848070e+05</td>\n",
       "      <td>2.848070e+05</td>\n",
       "      <td>284807.000000</td>\n",
       "      <td>284807.000000</td>\n",
       "    </tr>\n",
       "    <tr>\n",
       "      <th>mean</th>\n",
       "      <td>94813.859575</td>\n",
       "      <td>1.168375e-15</td>\n",
       "      <td>3.416908e-16</td>\n",
       "      <td>-1.379537e-15</td>\n",
       "      <td>2.074095e-15</td>\n",
       "      <td>9.604066e-16</td>\n",
       "      <td>1.487313e-15</td>\n",
       "      <td>-5.556467e-16</td>\n",
       "      <td>1.213481e-16</td>\n",
       "      <td>-2.406331e-15</td>\n",
       "      <td>...</td>\n",
       "      <td>1.654067e-16</td>\n",
       "      <td>-3.568593e-16</td>\n",
       "      <td>2.578648e-16</td>\n",
       "      <td>4.473266e-15</td>\n",
       "      <td>5.340915e-16</td>\n",
       "      <td>1.683437e-15</td>\n",
       "      <td>-3.660091e-16</td>\n",
       "      <td>-1.227390e-16</td>\n",
       "      <td>88.349619</td>\n",
       "      <td>0.001727</td>\n",
       "    </tr>\n",
       "    <tr>\n",
       "      <th>std</th>\n",
       "      <td>47488.145955</td>\n",
       "      <td>1.958696e+00</td>\n",
       "      <td>1.651309e+00</td>\n",
       "      <td>1.516255e+00</td>\n",
       "      <td>1.415869e+00</td>\n",
       "      <td>1.380247e+00</td>\n",
       "      <td>1.332271e+00</td>\n",
       "      <td>1.237094e+00</td>\n",
       "      <td>1.194353e+00</td>\n",
       "      <td>1.098632e+00</td>\n",
       "      <td>...</td>\n",
       "      <td>7.345240e-01</td>\n",
       "      <td>7.257016e-01</td>\n",
       "      <td>6.244603e-01</td>\n",
       "      <td>6.056471e-01</td>\n",
       "      <td>5.212781e-01</td>\n",
       "      <td>4.822270e-01</td>\n",
       "      <td>4.036325e-01</td>\n",
       "      <td>3.300833e-01</td>\n",
       "      <td>250.120109</td>\n",
       "      <td>0.041527</td>\n",
       "    </tr>\n",
       "    <tr>\n",
       "      <th>min</th>\n",
       "      <td>0.000000</td>\n",
       "      <td>-5.640751e+01</td>\n",
       "      <td>-7.271573e+01</td>\n",
       "      <td>-4.832559e+01</td>\n",
       "      <td>-5.683171e+00</td>\n",
       "      <td>-1.137433e+02</td>\n",
       "      <td>-2.616051e+01</td>\n",
       "      <td>-4.355724e+01</td>\n",
       "      <td>-7.321672e+01</td>\n",
       "      <td>-1.343407e+01</td>\n",
       "      <td>...</td>\n",
       "      <td>-3.483038e+01</td>\n",
       "      <td>-1.093314e+01</td>\n",
       "      <td>-4.480774e+01</td>\n",
       "      <td>-2.836627e+00</td>\n",
       "      <td>-1.029540e+01</td>\n",
       "      <td>-2.604551e+00</td>\n",
       "      <td>-2.256568e+01</td>\n",
       "      <td>-1.543008e+01</td>\n",
       "      <td>0.000000</td>\n",
       "      <td>0.000000</td>\n",
       "    </tr>\n",
       "    <tr>\n",
       "      <th>25%</th>\n",
       "      <td>54201.500000</td>\n",
       "      <td>-9.203734e-01</td>\n",
       "      <td>-5.985499e-01</td>\n",
       "      <td>-8.903648e-01</td>\n",
       "      <td>-8.486401e-01</td>\n",
       "      <td>-6.915971e-01</td>\n",
       "      <td>-7.682956e-01</td>\n",
       "      <td>-5.540759e-01</td>\n",
       "      <td>-2.086297e-01</td>\n",
       "      <td>-6.430976e-01</td>\n",
       "      <td>...</td>\n",
       "      <td>-2.283949e-01</td>\n",
       "      <td>-5.423504e-01</td>\n",
       "      <td>-1.618463e-01</td>\n",
       "      <td>-3.545861e-01</td>\n",
       "      <td>-3.171451e-01</td>\n",
       "      <td>-3.269839e-01</td>\n",
       "      <td>-7.083953e-02</td>\n",
       "      <td>-5.295979e-02</td>\n",
       "      <td>5.600000</td>\n",
       "      <td>0.000000</td>\n",
       "    </tr>\n",
       "    <tr>\n",
       "      <th>50%</th>\n",
       "      <td>84692.000000</td>\n",
       "      <td>1.810880e-02</td>\n",
       "      <td>6.548556e-02</td>\n",
       "      <td>1.798463e-01</td>\n",
       "      <td>-1.984653e-02</td>\n",
       "      <td>-5.433583e-02</td>\n",
       "      <td>-2.741871e-01</td>\n",
       "      <td>4.010308e-02</td>\n",
       "      <td>2.235804e-02</td>\n",
       "      <td>-5.142873e-02</td>\n",
       "      <td>...</td>\n",
       "      <td>-2.945017e-02</td>\n",
       "      <td>6.781943e-03</td>\n",
       "      <td>-1.119293e-02</td>\n",
       "      <td>4.097606e-02</td>\n",
       "      <td>1.659350e-02</td>\n",
       "      <td>-5.213911e-02</td>\n",
       "      <td>1.342146e-03</td>\n",
       "      <td>1.124383e-02</td>\n",
       "      <td>22.000000</td>\n",
       "      <td>0.000000</td>\n",
       "    </tr>\n",
       "    <tr>\n",
       "      <th>75%</th>\n",
       "      <td>139320.500000</td>\n",
       "      <td>1.315642e+00</td>\n",
       "      <td>8.037239e-01</td>\n",
       "      <td>1.027196e+00</td>\n",
       "      <td>7.433413e-01</td>\n",
       "      <td>6.119264e-01</td>\n",
       "      <td>3.985649e-01</td>\n",
       "      <td>5.704361e-01</td>\n",
       "      <td>3.273459e-01</td>\n",
       "      <td>5.971390e-01</td>\n",
       "      <td>...</td>\n",
       "      <td>1.863772e-01</td>\n",
       "      <td>5.285536e-01</td>\n",
       "      <td>1.476421e-01</td>\n",
       "      <td>4.395266e-01</td>\n",
       "      <td>3.507156e-01</td>\n",
       "      <td>2.409522e-01</td>\n",
       "      <td>9.104512e-02</td>\n",
       "      <td>7.827995e-02</td>\n",
       "      <td>77.165000</td>\n",
       "      <td>0.000000</td>\n",
       "    </tr>\n",
       "    <tr>\n",
       "      <th>max</th>\n",
       "      <td>172792.000000</td>\n",
       "      <td>2.454930e+00</td>\n",
       "      <td>2.205773e+01</td>\n",
       "      <td>9.382558e+00</td>\n",
       "      <td>1.687534e+01</td>\n",
       "      <td>3.480167e+01</td>\n",
       "      <td>7.330163e+01</td>\n",
       "      <td>1.205895e+02</td>\n",
       "      <td>2.000721e+01</td>\n",
       "      <td>1.559499e+01</td>\n",
       "      <td>...</td>\n",
       "      <td>2.720284e+01</td>\n",
       "      <td>1.050309e+01</td>\n",
       "      <td>2.252841e+01</td>\n",
       "      <td>4.584549e+00</td>\n",
       "      <td>7.519589e+00</td>\n",
       "      <td>3.517346e+00</td>\n",
       "      <td>3.161220e+01</td>\n",
       "      <td>3.384781e+01</td>\n",
       "      <td>25691.160000</td>\n",
       "      <td>1.000000</td>\n",
       "    </tr>\n",
       "  </tbody>\n",
       "</table>\n",
       "<p>8 rows × 31 columns</p>\n",
       "</div>"
      ],
      "text/plain": [
       "                Time            V1            V2            V3            V4  \\\n",
       "count  284807.000000  2.848070e+05  2.848070e+05  2.848070e+05  2.848070e+05   \n",
       "mean    94813.859575  1.168375e-15  3.416908e-16 -1.379537e-15  2.074095e-15   \n",
       "std     47488.145955  1.958696e+00  1.651309e+00  1.516255e+00  1.415869e+00   \n",
       "min         0.000000 -5.640751e+01 -7.271573e+01 -4.832559e+01 -5.683171e+00   \n",
       "25%     54201.500000 -9.203734e-01 -5.985499e-01 -8.903648e-01 -8.486401e-01   \n",
       "50%     84692.000000  1.810880e-02  6.548556e-02  1.798463e-01 -1.984653e-02   \n",
       "75%    139320.500000  1.315642e+00  8.037239e-01  1.027196e+00  7.433413e-01   \n",
       "max    172792.000000  2.454930e+00  2.205773e+01  9.382558e+00  1.687534e+01   \n",
       "\n",
       "                 V5            V6            V7            V8            V9  \\\n",
       "count  2.848070e+05  2.848070e+05  2.848070e+05  2.848070e+05  2.848070e+05   \n",
       "mean   9.604066e-16  1.487313e-15 -5.556467e-16  1.213481e-16 -2.406331e-15   \n",
       "std    1.380247e+00  1.332271e+00  1.237094e+00  1.194353e+00  1.098632e+00   \n",
       "min   -1.137433e+02 -2.616051e+01 -4.355724e+01 -7.321672e+01 -1.343407e+01   \n",
       "25%   -6.915971e-01 -7.682956e-01 -5.540759e-01 -2.086297e-01 -6.430976e-01   \n",
       "50%   -5.433583e-02 -2.741871e-01  4.010308e-02  2.235804e-02 -5.142873e-02   \n",
       "75%    6.119264e-01  3.985649e-01  5.704361e-01  3.273459e-01  5.971390e-01   \n",
       "max    3.480167e+01  7.330163e+01  1.205895e+02  2.000721e+01  1.559499e+01   \n",
       "\n",
       "       ...           V21           V22           V23           V24  \\\n",
       "count  ...  2.848070e+05  2.848070e+05  2.848070e+05  2.848070e+05   \n",
       "mean   ...  1.654067e-16 -3.568593e-16  2.578648e-16  4.473266e-15   \n",
       "std    ...  7.345240e-01  7.257016e-01  6.244603e-01  6.056471e-01   \n",
       "min    ... -3.483038e+01 -1.093314e+01 -4.480774e+01 -2.836627e+00   \n",
       "25%    ... -2.283949e-01 -5.423504e-01 -1.618463e-01 -3.545861e-01   \n",
       "50%    ... -2.945017e-02  6.781943e-03 -1.119293e-02  4.097606e-02   \n",
       "75%    ...  1.863772e-01  5.285536e-01  1.476421e-01  4.395266e-01   \n",
       "max    ...  2.720284e+01  1.050309e+01  2.252841e+01  4.584549e+00   \n",
       "\n",
       "                V25           V26           V27           V28         Amount  \\\n",
       "count  2.848070e+05  2.848070e+05  2.848070e+05  2.848070e+05  284807.000000   \n",
       "mean   5.340915e-16  1.683437e-15 -3.660091e-16 -1.227390e-16      88.349619   \n",
       "std    5.212781e-01  4.822270e-01  4.036325e-01  3.300833e-01     250.120109   \n",
       "min   -1.029540e+01 -2.604551e+00 -2.256568e+01 -1.543008e+01       0.000000   \n",
       "25%   -3.171451e-01 -3.269839e-01 -7.083953e-02 -5.295979e-02       5.600000   \n",
       "50%    1.659350e-02 -5.213911e-02  1.342146e-03  1.124383e-02      22.000000   \n",
       "75%    3.507156e-01  2.409522e-01  9.104512e-02  7.827995e-02      77.165000   \n",
       "max    7.519589e+00  3.517346e+00  3.161220e+01  3.384781e+01   25691.160000   \n",
       "\n",
       "               Class  \n",
       "count  284807.000000  \n",
       "mean        0.001727  \n",
       "std         0.041527  \n",
       "min         0.000000  \n",
       "25%         0.000000  \n",
       "50%         0.000000  \n",
       "75%         0.000000  \n",
       "max         1.000000  \n",
       "\n",
       "[8 rows x 31 columns]"
      ]
     },
     "execution_count": 22,
     "metadata": {},
     "output_type": "execute_result"
    }
   ],
   "source": [
    "card_df.describe()"
   ]
  },
  {
   "cell_type": "code",
   "execution_count": 24,
   "id": "7ccf0b9b-c6ac-483d-8a5b-5e7c10ea52fd",
   "metadata": {},
   "outputs": [],
   "source": [
    "# mean 은 스케일링, 결제 금액도 스케일링 진행해줘도 될거같음"
   ]
  },
  {
   "cell_type": "code",
   "execution_count": 26,
   "id": "f5625807-cfe9-4fa3-bd6f-f60da6bab3c7",
   "metadata": {},
   "outputs": [
    {
     "data": {
      "text/plain": [
       "Class\n",
       "0    284315\n",
       "1       492\n",
       "Name: count, dtype: int64"
      ]
     },
     "execution_count": 26,
     "metadata": {},
     "output_type": "execute_result"
    }
   ],
   "source": [
    "card_df['Class'].value_counts()"
   ]
  },
  {
   "cell_type": "code",
   "execution_count": 79,
   "id": "9b00ae3e-0524-45a8-bdf0-ce1deb5fb33b",
   "metadata": {},
   "outputs": [],
   "source": [
    "from sklearn.model_selection import train_test_split\n",
    "\n",
    "def get_preprocessing_df(df=None):\n",
    "    df_copy = df.copy()\n",
    "    df_copy.drop('Time',axis=1, inplace=True)\n",
    "    return df_copy"
   ]
  },
  {
   "cell_type": "code",
   "execution_count": 81,
   "id": "af1e54f9-4611-4e13-8771-946b47138a09",
   "metadata": {},
   "outputs": [],
   "source": [
    "# 사전 데이터 가공 후 학습과 테스트 데이터 세트를 반환하는 함수\n",
    "def get_train_test_dataset(df=None):\n",
    "\n",
    "    df_copy = get_preprocessing_df(df)\n",
    "\n",
    "    X_features = df_copy.iloc[:, :-1]\n",
    "    y_target = df_copy.iloc[:, -1]\n",
    "\n",
    "    X_train, X_test, y_train, y_test = \\\n",
    "    train_test_split(X_features, y_target, test_size=0.3, random_state=0, stratify=y_target)\n",
    "\n",
    "    return X_train, X_test, y_train, y_test"
   ]
  },
  {
   "cell_type": "code",
   "execution_count": 83,
   "id": "71c9c1a0-a82b-4c8a-a511-a200353b3c4a",
   "metadata": {},
   "outputs": [],
   "source": [
    "X_train, X_test, y_train, y_test = get_train_test_dataset(card_df)"
   ]
  },
  {
   "cell_type": "code",
   "execution_count": 87,
   "id": "e10df4af-0e81-42d7-8ce4-845b2815542f",
   "metadata": {},
   "outputs": [
    {
     "name": "stdout",
     "output_type": "stream",
     "text": [
      "학습 데이터 레이블 값 비율\n",
      "Class\n",
      "0    99.827451\n",
      "1     0.172549\n",
      "Name: count, dtype: float64\n",
      "테스트 데이터 레이블 값 비율\n",
      "Class\n",
      "0    99.826785\n",
      "1     0.173215\n",
      "Name: count, dtype: float64\n"
     ]
    }
   ],
   "source": [
    "print('학습 데이터 레이블 값 비율')\n",
    "print(y_train.value_counts()/y_train.shape[0] * 100)\n",
    "print('테스트 데이터 레이블 값 비율')\n",
    "print(y_test.value_counts()/y_test.shape[0] *100)"
   ]
  },
  {
   "cell_type": "code",
   "execution_count": 91,
   "id": "eb741b8d-59c7-45e7-babe-d3f174237c26",
   "metadata": {},
   "outputs": [],
   "source": [
    "from sklearn.metrics import confusion_matrix, accuracy_score, precision_score, recall_score,f1_score,roc_auc_score\n",
    "import time\n",
    "\n",
    "def get_clf_eval(y_test , pred): # 여기는 우리가 만든거\n",
    "    confusion = confusion_matrix(y_test , pred)\n",
    "    accuracy = accuracy_score(y_test , pred)\n",
    "    precision = precision_score(y_test , pred)\n",
    "    recall = recall_score(y_test , pred)\n",
    "    f1 = f1_score(y_test,pred)\n",
    "\n",
    "    roc_auc = roc_auc_score(y_test, pred)\n",
    "    print ('오차 행렬')\n",
    "    print(confusion)\n",
    "    # ROC-AUC print 추가\n",
    "    print('정확도 : {0: .4f}, 정밀도 : {1:.4f}, 재현율 : {2:.4f},\\\n",
    "          F1:{3:.4f}, AUC:{4:.4f}'.format(accuracy,precision, recall, f1, roc_auc))"
   ]
  },
  {
   "cell_type": "code",
   "execution_count": 93,
   "id": "73ca5495-7a60-4188-ae00-45f004fcf78b",
   "metadata": {},
   "outputs": [],
   "source": [
    "def get_model_train_eval(model, ftr_train=None, ftr_test=None, tgt_train=None, tgt_test=None):\n",
    "    start_time = time.time()\n",
    "    model.fit(ftr_train, tgt_train)\n",
    "    pred = model.predict(ftr_test)\n",
    "    get_clf_eval(tgt_test, pred)\n",
    "    print(\"수행 시간:{0:.1f} 초 \".format(time.time() - start_time))"
   ]
  },
  {
   "cell_type": "code",
   "execution_count": 99,
   "id": "c41c1167-f3be-4bce-9c4c-2a4df30ee3d6",
   "metadata": {},
   "outputs": [
    {
     "name": "stdout",
     "output_type": "stream",
     "text": [
      "오차 행렬\n",
      "[[85280    15]\n",
      " [   57    91]]\n",
      "정확도 :  0.9992, 정밀도 : 0.8585, 재현율 : 0.6149,          F1:0.7165, AUC:0.8073\n",
      "수행 시간:4.6 초 \n"
     ]
    }
   ],
   "source": [
    "from sklearn.linear_model import LogisticRegression\n",
    "\n",
    "lr_clf = LogisticRegression(max_iter =1000)\n",
    "get_model_train_eval(lr_clf, ftr_train=X_train, ftr_test=X_test,\n",
    "                     tgt_train=y_train, tgt_test=y_test)"
   ]
  },
  {
   "cell_type": "code",
   "execution_count": 101,
   "id": "4ab439f5-10e9-4707-9920-3e9cb3d67c99",
   "metadata": {},
   "outputs": [
    {
     "name": "stdout",
     "output_type": "stream",
     "text": [
      "오차 행렬\n",
      "[[85290     5]\n",
      " [   36   112]]\n",
      "정확도 :  0.9995, 정밀도 : 0.9573, 재현율 : 0.7568,          F1:0.8453, AUC:0.8783\n",
      "수행 시간:3.5 초 \n"
     ]
    }
   ],
   "source": [
    "from lightgbm import LGBMClassifier\n",
    "\n",
    "lgbm_clf = LGBMClassifier(n_estimators=1000, num_leaves=64,\n",
    "                          n_jobs=-1, boost_from_average=False)\n",
    "get_model_train_eval(lgbm_clf, ftr_train=X_train, ftr_test=X_test,\n",
    "                     tgt_train=y_train, tgt_test=y_test)"
   ]
  },
  {
   "cell_type": "code",
   "execution_count": 103,
   "id": "b6fbd569-b7b4-4bb3-821a-0cc1ac34c355",
   "metadata": {},
   "outputs": [
    {
     "name": "stdout",
     "output_type": "stream",
     "text": [
      "오차 행렬\n",
      "[[85290     5]\n",
      " [   41   107]]\n",
      "정확도 :  0.9995, 정밀도 : 0.9554, 재현율 : 0.7230,          F1:0.8231, AUC:0.8615\n",
      "수행 시간:184.3 초 \n"
     ]
    }
   ],
   "source": [
    "from sklearn.ensemble import RandomForestClassifier\n",
    "\n",
    "rf_clf = RandomForestClassifier(n_estimators=1000, n_jobs=-1)\n",
    "                        \n",
    "get_model_train_eval(rf_clf, ftr_train=X_train, ftr_test=X_test,\n",
    "                     tgt_train=y_train, tgt_test=y_test)"
   ]
  },
  {
   "cell_type": "markdown",
   "id": "9b8f3112-e378-4f0f-bebc-0d510c5d67d6",
   "metadata": {},
   "source": [
    "# 데이터 분포도 변환 후 모델 학습/예측/평가"
   ]
  },
  {
   "cell_type": "code",
   "execution_count": 112,
   "id": "5e8db663-98c1-4d27-8ab0-220de3fb489d",
   "metadata": {},
   "outputs": [
    {
     "data": {
      "image/png": "[encoded data removed]",
      "text/plain": [
       "<Figure size 800x400 with 1 Axes>"
      ]
     },
     "metadata": {},
     "output_type": "display_data"
    }
   ],
   "source": [
    "import seaborn as sns\n",
    "\n",
    "plt.figure(figsize=(8,4))\n",
    "plt.xticks(range(0,30000,1000), rotation=60)\n",
    "sns.histplot(card_df['Amount'], bins=100, kde=True)\n",
    "plt.show()"
   ]
  },
  {
   "cell_type": "code",
   "execution_count": 118,
   "id": "f743d1d5-24ca-4d76-b1d2-3423b876aae6",
   "metadata": {},
   "outputs": [],
   "source": [
    "from sklearn.preprocessing import StandardScaler\n",
    "\n",
    "def get_preprocessed_df(df=None):\n",
    "    df_copy = df.copy()\n",
    "    scaler = StandardScaler()\n",
    "    amount_n = scaler.fit_transform(df_copy['Amount'].values.reshape(-1, 1))\n",
    "\n",
    "    df_copy.insert(0, 'Amount_scaled', amount_n)\n",
    "\n",
    "    df_copy.drop(['Time','Amount'],axis =1, inplace=True)\n",
    "    return df_copy"
   ]
  },
  {
   "cell_type": "code",
   "execution_count": 120,
   "id": "7cba0302-6549-4029-9f6d-bd9f2d3e009f",
   "metadata": {},
   "outputs": [],
   "source": [
    "X_train, X_test, y_train, y_test = get_train_test_dataset(card_df)"
   ]
  },
  {
   "cell_type": "code",
   "execution_count": 122,
   "id": "f88a9f39-e939-44fc-8836-acc149e4aa34",
   "metadata": {},
   "outputs": [
    {
     "name": "stdout",
     "output_type": "stream",
     "text": [
      "\n",
      "### 로지스틱 회귀 예측 성능 ###\n",
      "오차 행렬\n",
      "[[85280    15]\n",
      " [   57    91]]\n",
      "정확도 :  0.9992, 정밀도 : 0.8585, 재현율 : 0.6149,          F1:0.7165, AUC:0.8073\n",
      "수행 시간:4.7 초 \n",
      "\n",
      "### LightGBM 예측 성능 ###\n",
      "오차 행렬\n",
      "[[85290     5]\n",
      " [   36   112]]\n",
      "정확도 :  0.9995, 정밀도 : 0.9573, 재현율 : 0.7568,          F1:0.8453, AUC:0.8783\n",
      "수행 시간:3.2 초 \n",
      "\n",
      "### RandomForest 예측 성능 ###\n",
      "오차 행렬\n",
      "[[85289     6]\n",
      " [   40   108]]\n",
      "정확도 :  0.9995, 정밀도 : 0.9474, 재현율 : 0.7297,          F1:0.8244, AUC:0.8648\n",
      "수행 시간:182.7 초 \n"
     ]
    }
   ],
   "source": [
    "\n",
    "print('\\n### 로지스틱 회귀 예측 성능 ###')\n",
    "lr_clf = LogisticRegression(max_iter =1000)\n",
    "get_model_train_eval(lr_clf, ftr_train=X_train, ftr_test=X_test,\n",
    "                     tgt_train=y_train, tgt_test=y_test)\n",
    "\n",
    "print('\\n### LightGBM 예측 성능 ###')\n",
    "lgbm_clf = LGBMClassifier(n_estimators=1000, num_leaves=64,\n",
    "                          n_jobs=-1, boost_from_average=False)\n",
    "get_model_train_eval(lgbm_clf, ftr_train=X_train, ftr_test=X_test,\n",
    "                     tgt_train=y_train, tgt_test=y_test)\n",
    "\n",
    "print('\\n### RandomForest 예측 성능 ###')\n",
    "rf_clf = RandomForestClassifier(n_estimators=1000, n_jobs=-1)\n",
    "                        \n",
    "get_model_train_eval(rf_clf, ftr_train=X_train, ftr_test=X_test,\n",
    "                     tgt_train=y_train, tgt_test=y_test)"
   ]
  },
  {
   "cell_type": "code",
   "execution_count": 124,
   "id": "b2caf2ad-ae44-42aa-9fb2-1779d2ee921e",
   "metadata": {},
   "outputs": [
    {
     "data": {
      "text/plain": [
       "<Axes: >"
      ]
     },
     "execution_count": 124,
     "metadata": {},
     "output_type": "execute_result"
    },
    {
     "data": {
      "image/png": "[encoded data removed]",
      "text/plain": [
       "<Figure size 900x900 with 2 Axes>"
      ]
     },
     "metadata": {},
     "output_type": "display_data"
    }
   ],
   "source": [
    "import seaborn as sns\n",
    "plt.figure(figsize=(9,9))\n",
    "corr=card_df.corr()\n",
    "sns.heatmap(corr,cmap='RdBu')"
   ]
  },
  {
   "cell_type": "code",
   "execution_count": 158,
   "id": "3585ecc5-dbe7-4d4f-99fe-a39e82f4d4ed",
   "metadata": {},
   "outputs": [],
   "source": [
    "import numpy as np\n",
    "\n",
    "def get_outlier(df=None, column=None, weight = 1.5):\n",
    "\n",
    "    fraud = df[df['Class']==1][column]\n",
    "    quantile_25 = np.percentile(fraud.values, 25)\n",
    "    quantile_75= np.percentile(fraud.values, 75)\n",
    "\n",
    "    iqr = quantile_75-quantile_25\n",
    "    iqr_weight = iqr * weight\n",
    "    lowest_val = quantile_25 - iqr_weight\n",
    "    highest_val = quantile_75 + iqr_weight\n",
    "\n",
    "    outlier_index = fraud[(fraud < lowest_val) | (fraud > highest_val)].index\n",
    "    return outlier_index"
   ]
  },
  {
   "cell_type": "code",
   "execution_count": 160,
   "id": "1d09041e-91d8-4c3f-ac16-5b41ff4e84c3",
   "metadata": {},
   "outputs": [
    {
     "name": "stdout",
     "output_type": "stream",
     "text": [
      "이상치 데이터 인덱스: Index([8296, 8615, 9035, 9252], dtype='int64')\n"
     ]
    }
   ],
   "source": [
    "outlier_index = get_outlier(df=card_df, column='V14',weight = 1.5)\n",
    "print('이상치 데이터 인덱스:', outlier_index)"
   ]
  },
  {
   "cell_type": "code",
   "execution_count": 162,
   "id": "e1216c59-b47f-4b9c-82b0-d5464dbadb9c",
   "metadata": {},
   "outputs": [
    {
     "name": "stdout",
     "output_type": "stream",
     "text": [
      "이상치 데이터 인덱스: Index([], dtype='int64')\n"
     ]
    }
   ],
   "source": [
    "outlier_index = get_outlier(df=card_df, column='V17')\n",
    "print('이상치 데이터 인덱스:', outlier_index)"
   ]
  },
  {
   "cell_type": "code",
   "execution_count": 164,
   "id": "fe45db9f-c898-4646-a2af-d7ba8cee5370",
   "metadata": {},
   "outputs": [],
   "source": [
    "def get_preprocessed_df(df=None):\n",
    "    df_copy = df.copy()\n",
    "    scaler = StandardScaler()\n",
    "    amount_n = scaler.fit_transform(df_copy['Amount'].values.reshape(-1, 1))\n",
    "\n",
    "    df_copy.insert(0, 'Amount_scaled', amount_n)\n",
    "\n",
    "    df_copy.drop(['Time','Amount'],axis =1, inplace=True)\n",
    "\n",
    "    outlier_index = get_outlier(df=card_df, column='V14', weight = 1.5)\n",
    "    df_copy.drop (outlier_index, axis=0, inplace = True)\n",
    "\n",
    "    return df_copy"
   ]
  },
  {
   "cell_type": "code",
   "execution_count": 166,
   "id": "b55adf10-64a4-4e90-899e-ded4acf2863f",
   "metadata": {},
   "outputs": [],
   "source": [
    "X_train, X_test, y_train, y_test = get_train_test_dataset(card_df)"
   ]
  },
  {
   "cell_type": "code",
   "execution_count": 168,
   "id": "df850db6-67d7-4e1b-a4da-facce71b9dd8",
   "metadata": {},
   "outputs": [
    {
     "name": "stdout",
     "output_type": "stream",
     "text": [
      "\n",
      "### 로지스틱 회귀 예측 성능 ###\n",
      "오차 행렬\n",
      "[[85280    15]\n",
      " [   57    91]]\n",
      "정확도 :  0.9992, 정밀도 : 0.8585, 재현율 : 0.6149,          F1:0.7165, AUC:0.8073\n",
      "수행 시간:4.6 초 \n",
      "\n",
      "### LightGBM 예측 성능 ###\n",
      "오차 행렬\n",
      "[[85290     5]\n",
      " [   36   112]]\n",
      "정확도 :  0.9995, 정밀도 : 0.9573, 재현율 : 0.7568,          F1:0.8453, AUC:0.8783\n",
      "수행 시간:3.2 초 \n",
      "\n",
      "### RandomForest 예측 성능 ###\n",
      "오차 행렬\n",
      "[[85290     5]\n",
      " [   39   109]]\n",
      "정확도 :  0.9995, 정밀도 : 0.9561, 재현율 : 0.7365,          F1:0.8321, AUC:0.8682\n",
      "수행 시간:183.4 초 \n"
     ]
    }
   ],
   "source": [
    "\n",
    "print('\\n### 로지스틱 회귀 예측 성능 ###')\n",
    "lr_clf = LogisticRegression(max_iter =900)\n",
    "get_model_train_eval(lr_clf, ftr_train=X_train, ftr_test=X_test,\n",
    "                     tgt_train=y_train, tgt_test=y_test)\n",
    "\n",
    "print('\\n### LightGBM 예측 성능 ###')\n",
    "lgbm_clf = LGBMClassifier(n_estimators=1000, num_leaves=64,\n",
    "                          n_jobs=-1, boost_from_average=False)\n",
    "get_model_train_eval(lgbm_clf, ftr_train=X_train, ftr_test=X_test,\n",
    "                     tgt_train=y_train, tgt_test=y_test)\n",
    "\n",
    "print('\\n### RandomForest 예측 성능 ###')\n",
    "rf_clf = RandomForestClassifier(n_estimators=1000, n_jobs=-1)\n",
    "                        \n",
    "get_model_train_eval(rf_clf, ftr_train=X_train, ftr_test=X_test,\n",
    "                     tgt_train=y_train, tgt_test=y_test)"
   ]
  },
  {
   "cell_type": "markdown",
   "id": "ccbede7b-13e2-46f4-8de9-a108c0af0cdb",
   "metadata": {},
   "source": [
    "## SMOTE 오버 샘플링 적용 후 모델 학습/예측/평가"
   ]
  },
  {
   "cell_type": "code",
   "execution_count": 179,
   "id": "10b4ac48-fb31-4a89-9792-76e62871872a",
   "metadata": {},
   "outputs": [
    {
     "name": "stdout",
     "output_type": "stream",
     "text": [
      "SMOTE 적용 전 학습용 피처/레이블 데이터 세트 :  (199364, 29) (199364,)\n",
      "SMOTE 적용 후 학습용 피처/레이블 데이터 세트 :  (398040, 29) (398040,)\n",
      "SMOTE 적용 후 레이블 값 분포: \n",
      " Class\n",
      "0    199020\n",
      "1    199020\n",
      "Name: count, dtype: int64\n"
     ]
    }
   ],
   "source": [
    "from imblearn.over_sampling import SMOTE\n",
    "\n",
    "smote = SMOTE(random_state=0)\n",
    "X_train_over, y_train_over = smote.fit_resample(X_train, y_train)\n",
    "print('SMOTE 적용 전 학습용 피처/레이블 데이터 세트 : ', X_train.shape, y_train.shape)\n",
    "print('SMOTE 적용 후 학습용 피처/레이블 데이터 세트 : ', X_train_over.shape,\n",
    "      y_train_over.shape)\n",
    "print('SMOTE 적용 후 레이블 값 분포: \\n', pd.Series(y_train_over).value_counts())"
   ]
  },
  {
   "cell_type": "code",
   "execution_count": 178,
   "id": "9d6683ff-3358-4183-a754-68eb3dcb2adc",
   "metadata": {},
   "outputs": [
    {
     "name": "stdout",
     "output_type": "stream",
     "text": [
      "\n",
      "### 로지스틱 회귀 예측 성능 ###\n",
      "오차 행렬\n",
      "[[85280    15]\n",
      " [   57    91]]\n",
      "정확도 :  0.9992, 정밀도 : 0.8585, 재현율 : 0.6149,          F1:0.7165, AUC:0.8073\n",
      "수행 시간:4.6 초 \n",
      "\n",
      "### LightGBM 예측 성능 ###\n",
      "오차 행렬\n",
      "[[85290     5]\n",
      " [   36   112]]\n",
      "정확도 :  0.9995, 정밀도 : 0.9573, 재현율 : 0.7568,          F1:0.8453, AUC:0.8783\n",
      "수행 시간:3.2 초 \n",
      "\n",
      "### RandomForest 예측 성능 ###\n",
      "오차 행렬\n",
      "[[85289     6]\n",
      " [   39   109]]\n",
      "정확도 :  0.9995, 정밀도 : 0.9478, 재현율 : 0.7365,          F1:0.8289, AUC:0.8682\n",
      "수행 시간:181.5 초 \n"
     ]
    }
   ],
   "source": [
    "\n",
    "print('\\n### 로지스틱 회귀 예측 성능 ###')\n",
    "lr_clf = LogisticRegression(max_iter =900)\n",
    "get_model_train_eval(lr_clf, ftr_train=X_train, ftr_test=X_test,\n",
    "                     tgt_train=y_train, tgt_test=y_test)\n",
    "\n",
    "print('\\n### LightGBM 예측 성능 ###')\n",
    "lgbm_clf = LGBMClassifier(n_estimators=1000, num_leaves=64,\n",
    "                          n_jobs=-1, boost_from_average=False)\n",
    "get_model_train_eval(lgbm_clf, ftr_train=X_train, ftr_test=X_test,\n",
    "                     tgt_train=y_train, tgt_test=y_test)\n",
    "\n",
    "print('\\n### RandomForest 예측 성능 ###')\n",
    "rf_clf = RandomForestClassifier(n_estimators=1000, n_jobs=-1)\n",
    "                        \n",
    "get_model_train_eval(rf_clf, ftr_train=X_train, ftr_test=X_test,\n",
    "                     tgt_train=y_train, tgt_test=y_test)"
   ]
  },
  {
   "cell_type": "code",
   "execution_count": 196,
   "id": "f2f91849-e85f-4f86-88bb-b6fa34e73c3f",
   "metadata": {},
   "outputs": [
    {
     "name": "stderr",
     "output_type": "stream",
     "text": [
      "C:\\Users\\705-8\\AppData\\Local\\Temp\\ipykernel_8764\\5456443.py:10: FutureWarning: \n",
      "\n",
      "Passing `palette` without assigning `hue` is deprecated and will be removed in v0.14.0. Assign the `y` variable to `hue` and set `legend=False` for the same effect.\n",
      "\n",
      "  sns.barplot(x=ftr_top20, y=ftr_top20.index,palette='Set1')\n"
     ]
    },
    {
     "data": {
      "image/png": "[encoded data removed]",
      "text/plain": [
       "<Figure size 800x600 with 1 Axes>"
      ]
     },
     "metadata": {},
     "output_type": "display_data"
    }
   ],
   "source": [
    "\n",
    "import matplotlib.pyplot as plt\n",
    "import seaborn as sns\n",
    "\n",
    "ftr_importances_values = rf_clf.feature_importances_\n",
    "ftr_importances = pd.Series(ftr_importances_values, index=card_df.columns[1:-1])\n",
    "ftr_top20 = ftr_importances.sort_values(ascending=False)\n",
    "\n",
    "plt.figure(figsize=(8,6))\n",
    "plt.title('Feature importances Top 20')\n",
    "sns.barplot(x=ftr_top20, y=ftr_top20.index,palette='Set1')\n",
    "plt.show()"
   ]
  },
  {
   "cell_type": "code",
   "execution_count": 198,
   "id": "6517ad9b-2d80-41cb-b1c9-ec41a2a4a9e8",
   "metadata": {},
   "outputs": [
    {
     "name": "stderr",
     "output_type": "stream",
     "text": [
      "C:\\Users\\705-8\\AppData\\Local\\Temp\\ipykernel_8764\\3549766708.py:10: FutureWarning: \n",
      "\n",
      "Passing `palette` without assigning `hue` is deprecated and will be removed in v0.14.0. Assign the `y` variable to `hue` and set `legend=False` for the same effect.\n",
      "\n",
      "  sns.barplot(x=ftr_top20, y=ftr_top20.index,palette='Set1')\n"
     ]
    },
    {
     "data": {
      "image/png": "[encoded data removed]",
      "text/plain": [
       "<Figure size 800x600 with 1 Axes>"
      ]
     },
     "metadata": {},
     "output_type": "display_data"
    }
   ],
   "source": [
    "\n",
    "import matplotlib.pyplot as plt\n",
    "import seaborn as sns\n",
    "\n",
    "ftr_importances_values = lgbm_clf.feature_importances_\n",
    "ftr_importances = pd.Series(ftr_importances_values, index=card_df.columns[1:-1])\n",
    "ftr_top20 = ftr_importances.sort_values(ascending=False)\n",
    "\n",
    "plt.figure(figsize=(8,6))\n",
    "plt.title('Feature importances Top 20')\n",
    "sns.barplot(x=ftr_top20, y=ftr_top20.index,palette='Set1')\n",
    "plt.show()"
   ]
  },
  {
   "cell_type": "code",
   "execution_count": null,
   "id": "59c839a5-2af0-4f66-b3af-4891fcdb56c5",
   "metadata": {},
   "outputs": [],
   "source": [
    "\n",
    "import matplotlib.pyplot as plt\n",
    "import seaborn as sns\n",
    "\n",
    "ftr_importances_values = lgbm_clf.feature_importances_\n",
    "ftr_importances = pd.Series(ftr_importances_values, index=card_df.columns[1:-1])\n",
    "ftr_top20 = ftr_importances.sort_values(ascending=False)\n",
    "\n",
    "plt.figure(figsize=(8,6))\n",
    "plt.title('Feature importances Top 20')\n",
    "sns.barplot(x=ftr_top20, y=ftr_top20.index,palette='Set1')\n",
    "plt.show()"
   ]
  }
 ],
 "metadata": {
  "kernelspec": {
   "display_name": "Python 3 (ipykernel)",
   "language": "python",
   "name": "python3"
  },
  "language_info": {
   "codemirror_mode": {
    "name": "ipython",
    "version": 3
   },
   "file_extension": ".py",
   "mimetype": "text/x-python",
   "name": "python",
   "nbconvert_exporter": "python",
   "pygments_lexer": "ipython3",
   "version": "3.12.3"
  }
 },
 "nbformat": 4,
 "nbformat_minor": 5
}
